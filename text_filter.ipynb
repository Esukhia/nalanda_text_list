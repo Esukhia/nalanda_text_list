{
 "cells": [
  {
   "cell_type": "code",
   "execution_count": 1,
   "id": "appreciated-encoding",
   "metadata": {},
   "outputs": [],
   "source": [
    "from pathlib import Path\n",
    "import csv\n",
    "import json\n",
    "import yaml"
   ]
  },
  {
   "cell_type": "code",
   "execution_count": 2,
   "id": "continued-oregon",
   "metadata": {},
   "outputs": [],
   "source": [
    "def get_text_list(list_path):\n",
    "    text_list = list_path.read_text(encoding='utf-8').splitlines()\n",
    "    text_list = list(set(text_list))\n",
    "    text_list.sort()\n",
    "    print(len(text_list))\n",
    "    return text_list"
   ]
  },
  {
   "cell_type": "code",
   "execution_count": 3,
   "id": "civic-emperor",
   "metadata": {},
   "outputs": [
    {
     "name": "stdout",
     "output_type": "stream",
     "text": [
      "454\n"
     ]
    }
   ],
   "source": [
    "text_in_progress = get_text_list(Path('./nalanda_text_ready.txt'))"
   ]
  },
  {
   "cell_type": "code",
   "execution_count": 4,
   "id": "continental-magazine",
   "metadata": {},
   "outputs": [
    {
     "name": "stdout",
     "output_type": "stream",
     "text": [
      "536\n"
     ]
    }
   ],
   "source": [
    "nalanda_text = get_text_list(Path('./nalanda_text.txt'))"
   ]
  },
  {
   "cell_type": "code",
   "execution_count": 5,
   "id": "robust-methodology",
   "metadata": {},
   "outputs": [],
   "source": [
    "batch_4_text = []\n",
    "for text_id in nalanda_text:\n",
    "    if text_id in text_in_progress:\n",
    "        continue\n",
    "    else:\n",
    "        batch_4_text.append(text_id)"
   ]
  },
  {
   "cell_type": "code",
   "execution_count": 6,
   "id": "wooden-wichita",
   "metadata": {},
   "outputs": [
    {
     "data": {
      "text/plain": [
       "510"
      ]
     },
     "execution_count": 6,
     "metadata": {},
     "output_type": "execute_result"
    }
   ],
   "source": [
    "Path('./nalanda_text_need_to_prepare.txt').write_text(\"\\n\".join(batch_4_text), encoding='utf-8')"
   ]
  },
  {
   "cell_type": "code",
   "execution_count": 22,
   "id": "floral-burton",
   "metadata": {},
   "outputs": [],
   "source": [
    "buffer_text_paths = list(Path('./buffer_hfml_batch_3/derge_google').iterdir())"
   ]
  },
  {
   "cell_type": "code",
   "execution_count": 23,
   "id": "grand-manufacturer",
   "metadata": {},
   "outputs": [],
   "source": [
    "buffer_text_paths.sort()"
   ]
  },
  {
   "cell_type": "code",
   "execution_count": 24,
   "id": "helpful-oklahoma",
   "metadata": {},
   "outputs": [],
   "source": [
    "batch_3_ready= []\n",
    "for text_path in buffer_text_paths:\n",
    "    text_id = text_path.stem[:-5]\n",
    "    batch_3_ready.append(text_id)"
   ]
  },
  {
   "cell_type": "code",
   "execution_count": 25,
   "id": "comparable-deputy",
   "metadata": {},
   "outputs": [],
   "source": [
    "batch_3_not_ready = []\n",
    "for text_ in batch_3_text:\n",
    "    if text_ not in batch_3_ready:\n",
    "        batch_3_not_ready.append(text_)"
   ]
  },
  {
   "cell_type": "code",
   "execution_count": 26,
   "id": "sound-dating",
   "metadata": {},
   "outputs": [
    {
     "data": {
      "text/plain": [
       "['D1936b',\n",
       " 'D2945',\n",
       " 'D2946',\n",
       " 'D2947',\n",
       " 'D2948',\n",
       " 'D2949',\n",
       " 'D2950',\n",
       " 'D2951',\n",
       " 'D2952',\n",
       " 'D2953',\n",
       " 'D2954',\n",
       " 'D2955',\n",
       " 'D2956',\n",
       " 'D2957',\n",
       " 'D2958',\n",
       " 'D2969',\n",
       " 'D2970',\n",
       " 'D2971',\n",
       " 'D2972',\n",
       " 'D2997',\n",
       " 'D2998',\n",
       " 'D2999',\n",
       " 'D3007',\n",
       " 'D3017',\n",
       " 'D3018',\n",
       " 'D3024',\n",
       " 'D3031',\n",
       " 'D3033',\n",
       " 'D3034',\n",
       " 'D3035',\n",
       " 'D3036',\n",
       " 'D3037',\n",
       " 'D3039',\n",
       " 'D3040',\n",
       " 'D3041',\n",
       " 'D3042',\n",
       " 'D3046',\n",
       " 'D3047',\n",
       " 'D3048',\n",
       " 'D3861',\n",
       " 'D4204x',\n",
       " 'D4204y',\n",
       " 'D4434a',\n",
       " 'N2064',\n",
       " 'N3118',\n",
       " 'N3542',\n",
       " 'N4613',\n",
       " 'N4680',\n",
       " 'N4719',\n",
       " 'N4738',\n",
       " 'N4798',\n",
       " 'N4802',\n",
       " 'N4838',\n",
       " 'N4839',\n",
       " 'N4857',\n",
       " 'N4858',\n",
       " 'N4866',\n",
       " 'N4867',\n",
       " 'N4868',\n",
       " 'N4869',\n",
       " 'N4870',\n",
       " 'N4872',\n",
       " 'N4873',\n",
       " 'N4874',\n",
       " 'N4875',\n",
       " 'N4877',\n",
       " 'N4878',\n",
       " 'N4884',\n",
       " 'N4888',\n",
       " 'N4891',\n",
       " 'N4902',\n",
       " 'N4952',\n",
       " 'N4953',\n",
       " 'N4972',\n",
       " 'N4981',\n",
       " 'N4991',\n",
       " 'N4996',\n",
       " 'N5000',\n",
       " 'N5010',\n",
       " 'N5015',\n",
       " 'N5016',\n",
       " 'N5017',\n",
       " 'N5018',\n",
       " 'N5019',\n",
       " 'N5021',\n",
       " 'N5027',\n",
       " 'N5035']"
      ]
     },
     "execution_count": 26,
     "metadata": {},
     "output_type": "execute_result"
    }
   ],
   "source": [
    "batch_3_not_ready"
   ]
  },
  {
   "cell_type": "code",
   "execution_count": null,
   "id": "northern-lunch",
   "metadata": {},
   "outputs": [],
   "source": [
    "Path('./nalanda_text_')"
   ]
  }
 ],
 "metadata": {
  "kernelspec": {
   "display_name": "Python 3",
   "language": "python",
   "name": "python3"
  },
  "language_info": {
   "codemirror_mode": {
    "name": "ipython",
    "version": 3
   },
   "file_extension": ".py",
   "mimetype": "text/x-python",
   "name": "python",
   "nbconvert_exporter": "python",
   "pygments_lexer": "ipython3",
   "version": "3.8.10"
  }
 },
 "nbformat": 4,
 "nbformat_minor": 5
}
