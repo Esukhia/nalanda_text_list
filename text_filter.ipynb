{
 "cells": [
  {
   "cell_type": "code",
   "execution_count": 1,
   "id": "appreciated-encoding",
   "metadata": {},
   "outputs": [],
   "source": [
    "from pathlib import Path\n",
    "import csv\n",
    "import json\n",
    "import yaml"
   ]
  },
  {
   "cell_type": "code",
   "execution_count": 2,
   "id": "continued-oregon",
   "metadata": {},
   "outputs": [],
   "source": [
    "def get_text_list(list_path):\n",
    "    text_list = list_path.read_text(encoding='utf-8').splitlines()\n",
    "    text_list = list(set(text_list))\n",
    "    text_list.sort()\n",
    "    print(len(text_list))\n",
    "    return text_list"
   ]
  },
  {
   "cell_type": "code",
   "execution_count": 4,
   "id": "selected-ethiopia",
   "metadata": {},
   "outputs": [],
   "source": [
    "text_list = Path('./t_text_list.json').read_text(encoding='utf-8')\n",
    "text_on_editor = json.loads(text_list)"
   ]
  },
  {
   "cell_type": "code",
   "execution_count": 7,
   "id": "solved-rehabilitation",
   "metadata": {},
   "outputs": [],
   "source": [
    "editable_text = list(text_on_editor.keys())"
   ]
  },
  {
   "cell_type": "code",
   "execution_count": 8,
   "id": "agricultural-butter",
   "metadata": {},
   "outputs": [
    {
     "data": {
      "text/plain": [
       "420"
      ]
     },
     "execution_count": 8,
     "metadata": {},
     "output_type": "execute_result"
    }
   ],
   "source": [
    "len(editable_text)"
   ]
  },
  {
   "cell_type": "code",
   "execution_count": 3,
   "id": "deadly-boutique",
   "metadata": {},
   "outputs": [
    {
     "name": "stdout",
     "output_type": "stream",
     "text": [
      "500\n"
     ]
    }
   ],
   "source": [
    "nalanda_text = get_text_list(Path('./nalanda_text.txt'))"
   ]
  },
  {
   "cell_type": "code",
   "execution_count": 4,
   "id": "vocational-lounge",
   "metadata": {},
   "outputs": [
    {
     "name": "stdout",
     "output_type": "stream",
     "text": [
      "316\n"
     ]
    }
   ],
   "source": [
    "text_ready_to_work = get_text_list(Path('./nalanda_text_ready.txt'))"
   ]
  },
  {
   "cell_type": "code",
   "execution_count": 5,
   "id": "reasonable-seeking",
   "metadata": {},
   "outputs": [
    {
     "name": "stdout",
     "output_type": "stream",
     "text": [
      "478\n"
     ]
    }
   ],
   "source": [
    "karchak_text = get_text_list(Path('./karchak_text.txt'))"
   ]
  },
  {
   "cell_type": "code",
   "execution_count": 6,
   "id": "distinguished-soundtrack",
   "metadata": {},
   "outputs": [],
   "source": [
    "text_need_to_prepare = []"
   ]
  },
  {
   "cell_type": "code",
   "execution_count": 7,
   "id": "handed-practice",
   "metadata": {},
   "outputs": [],
   "source": [
    "for text_id in nalanda_text:\n",
    "    if text_id not in text_ready_to_work:\n",
    "        text_need_to_prepare.append(text_id)"
   ]
  },
  {
   "cell_type": "code",
   "execution_count": 8,
   "id": "chief-warrior",
   "metadata": {},
   "outputs": [
    {
     "data": {
      "text/plain": [
       "184"
      ]
     },
     "execution_count": 8,
     "metadata": {},
     "output_type": "execute_result"
    }
   ],
   "source": [
    "len(text_need_to_prepare)"
   ]
  },
  {
   "cell_type": "code",
   "execution_count": 9,
   "id": "rocky-wisconsin",
   "metadata": {},
   "outputs": [
    {
     "data": {
      "text/plain": [
       "1113"
      ]
     },
     "execution_count": 9,
     "metadata": {},
     "output_type": "execute_result"
    }
   ],
   "source": [
    "Path('./nalanda_text_need_to_prepare.txt').write_text(\"\\n\".join(text_need_to_prepare), encoding='utf-8')"
   ]
  },
  {
   "cell_type": "code",
   "execution_count": 14,
   "id": "hidden-jason",
   "metadata": {},
   "outputs": [
    {
     "name": "stdout",
     "output_type": "stream",
     "text": [
      "425\n"
     ]
    }
   ],
   "source": [
    "text_found_in_pedurma = get_text_list(Path('./nalanda_text_found_in_pedurma.txt'))"
   ]
  },
  {
   "cell_type": "code",
   "execution_count": 15,
   "id": "major-things",
   "metadata": {},
   "outputs": [
    {
     "name": "stdout",
     "output_type": "stream",
     "text": [
      "75\n"
     ]
    }
   ],
   "source": [
    "text_not_found_in_pedurma = get_text_list(Path('./nalanda_text_not_found_in_pedurma.txt'))"
   ]
  },
  {
   "cell_type": "code",
   "execution_count": 16,
   "id": "super-street",
   "metadata": {},
   "outputs": [],
   "source": [
    "nalanda_text_on_editor = []\n",
    "for text_on_editor in text_ready_to_work:\n",
    "    if text_on_editor in nalanda_text:\n",
    "        nalanda_text_on_editor.append(text_on_editor)  "
   ]
  },
  {
   "cell_type": "code",
   "execution_count": 17,
   "id": "exempt-sensitivity",
   "metadata": {},
   "outputs": [
    {
     "data": {
      "text/plain": [
       "177"
      ]
     },
     "execution_count": 17,
     "metadata": {},
     "output_type": "execute_result"
    }
   ],
   "source": [
    "len(nalanda_text_on_editor)"
   ]
  },
  {
   "cell_type": "code",
   "execution_count": 8,
   "id": "smoking-election",
   "metadata": {},
   "outputs": [],
   "source": [
    "for nalanda_text in nalanda_text_on_editor:\n",
    "    if nalanda_text in text_not_found_in_pedurma:\n",
    "        print(nalanda_text)"
   ]
  },
  {
   "cell_type": "code",
   "execution_count": 10,
   "id": "controlling-jacket",
   "metadata": {},
   "outputs": [
    {
     "ename": "TypeError",
     "evalue": "unsupported operand type(s) for -: 'list' and 'list'",
     "output_type": "error",
     "traceback": [
      "\u001b[0;31m---------------------------------------------------------------------------\u001b[0m",
      "\u001b[0;31mTypeError\u001b[0m                                 Traceback (most recent call last)",
      "\u001b[0;32m<ipython-input-10-ab3dcee36747>\u001b[0m in \u001b[0;36m<module>\u001b[0;34m\u001b[0m\n\u001b[0;32m----> 1\u001b[0;31m \u001b[0mnalanda_text\u001b[0m\u001b[0;34m-\u001b[0m\u001b[0meditable_text\u001b[0m\u001b[0;34m\u001b[0m\u001b[0;34m\u001b[0m\u001b[0m\n\u001b[0m",
      "\u001b[0;31mTypeError\u001b[0m: unsupported operand type(s) for -: 'list' and 'list'"
     ]
    }
   ],
   "source": [
    "nalanda_text-editable_text"
   ]
  },
  {
   "cell_type": "code",
   "execution_count": 11,
   "id": "varying-jumping",
   "metadata": {},
   "outputs": [
    {
     "data": {
      "text/plain": [
       "615"
      ]
     },
     "execution_count": 11,
     "metadata": {},
     "output_type": "execute_result"
    }
   ],
   "source": [
    "text_need_to_prepare = []\n",
    "for text in nalanda_text:\n",
    "    if text not in editable_text:\n",
    "        text_need_to_prepare.append(text)\n",
    "Path('./nalanda_text_need_to_prepare.txt').write_text(\"\\n\".join(text_need_to_prepare), encoding='utf-8')"
   ]
  },
  {
   "cell_type": "code",
   "execution_count": 1,
   "id": "spoken-berkeley",
   "metadata": {},
   "outputs": [],
   "source": [
    "import re"
   ]
  },
  {
   "cell_type": "code",
   "execution_count": 31,
   "id": "homeless-collectible",
   "metadata": {},
   "outputs": [],
   "source": [
    "text = \"\"\"\n",
    " བཀྲ་ཤིས་ཀྱི་ཚིགས་སུ་བཅད་པ། ་བ་༡༧༩༥ ཟའི་དབང་པོས་མཆོད་གྱུར་པ། །དེ་བཞིན་གཤེགས་པའི་སྟོབས་བཅུ་ལྡན་པའི་བཀྲ་ཤིས་གང་། །བཀྲ་ཤིས་དེས་ནི་སྐྱེ་དགུ་རྣམས་ལ་ཞི་བྱེད་ཤོགདཀོན་མཆོག་གསུམ་དང་མཛད་པ་བཅུ་གཉིས་ཀྱི་བཀྲ་ཤིས་ཀྱི་ཚིགས་སུ་བཅད་པ་སློབ་དཔོན་འཕགས་པ་ཀླུ་སྒྲུབ་ཀྱིས་མཛད་པ་རྫོགས་སོ། ། ། ། རྒྱ་གར་གྱི་མཁན་པོ་ཛི་ན་མི་ཏྲ་དང་། ཞུ་ཆེན་གྱི་ལོ་ཙཱ་བ་བནྡེ་ཡེ་ཤེས་སྡེས་བསྒྱུར་”ཅིང་ཞུས་ཏེ་གཏན་ལ་ཕབ་པ། ། ། །\n",
    "བསྡུར་མཆན།\n",
    "<r༡༧༩༢>\n",
    "1མཚན་བྱང་འདི་ཆོས་ཚན་འདིའི་མཚན་བོད་སྐད་དུ་སྨོས་པ་ལྟར་བཀོད།\n",
    "2«པེ་»«སྣར་»མཾ་གཱ།\n",
    "3«སྣར་»བཀྲི།\n",
    "4«སྣར་»ཉེར་བར་སྟན།\n",
    "5«པེ་»«སྣར་»གྱི།\n",
    "6«པེ་»«སྣར་»ཀྱིས།\n",
    "\"\"\""
   ]
  },
  {
   "cell_type": "code",
   "execution_count": 3,
   "id": "passive-gallery",
   "metadata": {},
   "outputs": [],
   "source": [
    "derge_text_list = list(Path('./hfml/derge_google_pedurma').iterdir())\n",
    "namsel_text_list = list(Path('./hfml/namsel_pedurma').iterdir())"
   ]
  },
  {
   "cell_type": "code",
   "execution_count": 4,
   "id": "embedded-usage",
   "metadata": {},
   "outputs": [],
   "source": [
    "derge_ids = []\n",
    "for derge_text_path in derge_text_list:\n",
    "    derge_ids.append(derge_text_path.stem)\n",
    "namsel_ids = []\n",
    "for namsel_text_path in namsel_text_list:\n",
    "    namsel_ids.append(namsel_text_path.stem)\n",
    "\n",
    "    "
   ]
  },
  {
   "cell_type": "code",
   "execution_count": 5,
   "id": "norwegian-database",
   "metadata": {},
   "outputs": [],
   "source": [
    "buffer_text_ids = []\n",
    "for namsel_id in namsel_ids:\n",
    "    if namsel_id in derge_ids:\n",
    "        buffer_text_ids.append(namsel_id)"
   ]
  },
  {
   "cell_type": "code",
   "execution_count": 7,
   "id": "freelance-proposition",
   "metadata": {},
   "outputs": [
    {
     "data": {
      "text/plain": [
       "96"
      ]
     },
     "execution_count": 7,
     "metadata": {},
     "output_type": "execute_result"
    }
   ],
   "source": [
    "len(buffer_text_ids)"
   ]
  },
  {
   "cell_type": "code",
   "execution_count": 14,
   "id": "beginning-platform",
   "metadata": {},
   "outputs": [],
   "source": [
    "for derge_text_path in derge_text_list:\n",
    "    if derge_text_path.stem in buffer_text_ids:\n",
    "        derge_text_path.rename(f'./buffer_hfml/derge_google/{derge_text_path.stem}.txt')"
   ]
  },
  {
   "cell_type": "code",
   "execution_count": 13,
   "id": "brief-doctrine",
   "metadata": {},
   "outputs": [
    {
     "ename": "FileNotFoundError",
     "evalue": "[Errno 2] No such file or directory: 'hfml/namsel_pedurma/D3069_v038.txt' -> './buffer_hfml/namsel/D3069_v038.txt'",
     "output_type": "error",
     "traceback": [
      "\u001b[0;31m---------------------------------------------------------------------------\u001b[0m",
      "\u001b[0;31mFileNotFoundError\u001b[0m                         Traceback (most recent call last)",
      "\u001b[0;32m<ipython-input-13-325bfaf9c45d>\u001b[0m in \u001b[0;36m<module>\u001b[0;34m\u001b[0m\n\u001b[1;32m      1\u001b[0m \u001b[0;32mfor\u001b[0m \u001b[0mnamsel_text_path\u001b[0m \u001b[0;32min\u001b[0m \u001b[0mnamsel_text_list\u001b[0m\u001b[0;34m:\u001b[0m\u001b[0;34m\u001b[0m\u001b[0;34m\u001b[0m\u001b[0m\n\u001b[1;32m      2\u001b[0m     \u001b[0;32mif\u001b[0m \u001b[0mnamsel_text_path\u001b[0m\u001b[0;34m.\u001b[0m\u001b[0mstem\u001b[0m \u001b[0;32min\u001b[0m \u001b[0mbuffer_text_ids\u001b[0m\u001b[0;34m:\u001b[0m\u001b[0;34m\u001b[0m\u001b[0;34m\u001b[0m\u001b[0m\n\u001b[0;32m----> 3\u001b[0;31m         \u001b[0mnamsel_text_path\u001b[0m\u001b[0;34m.\u001b[0m\u001b[0mrename\u001b[0m\u001b[0;34m(\u001b[0m\u001b[0;34mf'./buffer_hfml/namsel/{namsel_text_path.stem}.txt'\u001b[0m\u001b[0;34m)\u001b[0m\u001b[0;34m\u001b[0m\u001b[0;34m\u001b[0m\u001b[0m\n\u001b[0m",
      "\u001b[0;32m/usr/lib/python3.8/pathlib.py\u001b[0m in \u001b[0;36mrename\u001b[0;34m(self, target)\u001b[0m\n\u001b[1;32m   1357\u001b[0m         \u001b[0;32mif\u001b[0m \u001b[0mself\u001b[0m\u001b[0;34m.\u001b[0m\u001b[0m_closed\u001b[0m\u001b[0;34m:\u001b[0m\u001b[0;34m\u001b[0m\u001b[0;34m\u001b[0m\u001b[0m\n\u001b[1;32m   1358\u001b[0m             \u001b[0mself\u001b[0m\u001b[0;34m.\u001b[0m\u001b[0m_raise_closed\u001b[0m\u001b[0;34m(\u001b[0m\u001b[0;34m)\u001b[0m\u001b[0;34m\u001b[0m\u001b[0;34m\u001b[0m\u001b[0m\n\u001b[0;32m-> 1359\u001b[0;31m         \u001b[0mself\u001b[0m\u001b[0;34m.\u001b[0m\u001b[0m_accessor\u001b[0m\u001b[0;34m.\u001b[0m\u001b[0mrename\u001b[0m\u001b[0;34m(\u001b[0m\u001b[0mself\u001b[0m\u001b[0;34m,\u001b[0m \u001b[0mtarget\u001b[0m\u001b[0;34m)\u001b[0m\u001b[0;34m\u001b[0m\u001b[0;34m\u001b[0m\u001b[0m\n\u001b[0m\u001b[1;32m   1360\u001b[0m         \u001b[0;32mreturn\u001b[0m \u001b[0mself\u001b[0m\u001b[0;34m.\u001b[0m\u001b[0m__class__\u001b[0m\u001b[0;34m(\u001b[0m\u001b[0mtarget\u001b[0m\u001b[0;34m)\u001b[0m\u001b[0;34m\u001b[0m\u001b[0;34m\u001b[0m\u001b[0m\n\u001b[1;32m   1361\u001b[0m \u001b[0;34m\u001b[0m\u001b[0m\n",
      "\u001b[0;31mFileNotFoundError\u001b[0m: [Errno 2] No such file or directory: 'hfml/namsel_pedurma/D3069_v038.txt' -> './buffer_hfml/namsel/D3069_v038.txt'"
     ]
    }
   ],
   "source": [
    "for namsel_text_path in namsel_text_list:\n",
    "    if namsel_text_path.stem in buffer_text_ids:\n",
    "        namsel_text_path.rename(f'./buffer_hfml/namsel/{namsel_text_path.stem}.txt')"
   ]
  },
  {
   "cell_type": "code",
   "execution_count": 11,
   "id": "manufactured-minutes",
   "metadata": {},
   "outputs": [
    {
     "data": {
      "text/plain": [
       "96"
      ]
     },
     "execution_count": 11,
     "metadata": {},
     "output_type": "execute_result"
    }
   ],
   "source": [
    "len(buffer_text_ids)"
   ]
  },
  {
   "cell_type": "code",
   "execution_count": 12,
   "id": "nasty-highway",
   "metadata": {},
   "outputs": [
    {
     "data": {
      "text/plain": [
       "['D3069_v038',\n",
       " 'D4133_v093',\n",
       " 'D4012_v067',\n",
       " 'D3957_v064',\n",
       " 'D4232_v105',\n",
       " 'D1824_v018',\n",
       " 'D3864_v060',\n",
       " 'D3853_v057',\n",
       " 'D4090x_v079',\n",
       " 'D4328_v114',\n",
       " 'D3794_v052',\n",
       " 'D3866_v060',\n",
       " 'D3068_v038',\n",
       " 'D3918_v064',\n",
       " 'D3917_v064',\n",
       " 'D4319_v114',\n",
       " 'D4239_v106',\n",
       " 'D4119x_v089',\n",
       " 'D3991_v065',\n",
       " 'D4035_v072',\n",
       " 'D2190_v025',\n",
       " 'D1778_v014',\n",
       " 'D3790_v051',\n",
       " 'D4036_v073',\n",
       " 'D1793x_v016',\n",
       " 'D2329_v026',\n",
       " 'D1771_v014',\n",
       " 'D3788_v049',\n",
       " 'D4119y_v089',\n",
       " 'D2694_v037',\n",
       " 'D4219_v098',\n",
       " 'D4180_v096',\n",
       " 'D4128_v093',\n",
       " 'D2447_v027',\n",
       " 'D4267y_v107',\n",
       " 'D1752_v014',\n",
       " 'D3808_v055',\n",
       " 'D1784a_v015',\n",
       " 'D4090y_v079',\n",
       " 'D2480_v027',\n",
       " 'D4210_v097',\n",
       " 'D4039_v074',\n",
       " 'D3856_v058',\n",
       " 'D3956_v064',\n",
       " 'D4267x_v107',\n",
       " 'D4410_v116',\n",
       " 'D4148_v093',\n",
       " 'D2225_v026',\n",
       " 'D1759_v014',\n",
       " 'D3844_v057',\n",
       " 'D3916_v064',\n",
       " 'D4042_v075',\n",
       " 'D1816_v018',\n",
       " 'D4216_v097',\n",
       " 'D3823_v056',\n",
       " 'D3791_v051',\n",
       " 'D4193_v096',\n",
       " 'D3915_v064',\n",
       " 'D2191_v025',\n",
       " 'D4138_v093',\n",
       " 'D4358x_v115',\n",
       " 'D3787_v049',\n",
       " 'D2449_v027',\n",
       " 'D1779_v014',\n",
       " 'D3955_v064',\n",
       " 'D1286_v005',\n",
       " 'D3908_v064',\n",
       " 'D1464_v011',\n",
       " 'D2248_v026',\n",
       " 'D4266_v107',\n",
       " 'D2278_v026',\n",
       " 'D2659_v034',\n",
       " 'D3889_v062',\n",
       " 'D3973_v065',\n",
       " 'D4218_v098',\n",
       " 'D4139_v093',\n",
       " 'D3857_v058',\n",
       " 'D2591_v033',\n",
       " 'D3855_v058',\n",
       " 'D4383_v116',\n",
       " 'D4393_v116',\n",
       " 'D3134_v038',\n",
       " 'D4388_v116',\n",
       " 'D3845_v057',\n",
       " 'D3990_v065',\n",
       " 'D3976_v065',\n",
       " 'D3779_v041',\n",
       " 'D1340_v005',\n",
       " 'D4038x_v074',\n",
       " 'D2374_v027',\n",
       " 'D4274_v108',\n",
       " 'D3982_v065',\n",
       " 'D1942_v024',\n",
       " 'D4038y_v074',\n",
       " 'D1307_v005',\n",
       " 'D2334_v026']"
      ]
     },
     "execution_count": 12,
     "metadata": {},
     "output_type": "execute_result"
    }
   ],
   "source": [
    "buffer_text_ids"
   ]
  },
  {
   "cell_type": "code",
   "execution_count": null,
   "id": "thick-scholarship",
   "metadata": {},
   "outputs": [],
   "source": []
  }
 ],
 "metadata": {
  "kernelspec": {
   "display_name": "Python 3",
   "language": "python",
   "name": "python3"
  },
  "language_info": {
   "codemirror_mode": {
    "name": "ipython",
    "version": 3
   },
   "file_extension": ".py",
   "mimetype": "text/x-python",
   "name": "python",
   "nbconvert_exporter": "python",
   "pygments_lexer": "ipython3",
   "version": "3.8.10"
  }
 },
 "nbformat": 4,
 "nbformat_minor": 5
}
