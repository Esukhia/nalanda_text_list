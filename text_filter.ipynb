{
 "cells": [
  {
   "cell_type": "code",
   "execution_count": 1,
   "id": "appreciated-encoding",
   "metadata": {},
   "outputs": [],
   "source": [
    "from pathlib import Path\n",
    "import csv\n",
    "import json\n",
    "import yaml"
   ]
  },
  {
   "cell_type": "code",
   "execution_count": 2,
   "id": "continued-oregon",
   "metadata": {},
   "outputs": [],
   "source": [
    "def get_text_list(list_path):\n",
    "    text_list = list_path.read_text(encoding='utf-8').splitlines()\n",
    "    text_list = list(set(text_list))\n",
    "    text_list.sort()\n",
    "    print(len(text_list))\n",
    "    return text_list"
   ]
  },
  {
   "cell_type": "code",
   "execution_count": 3,
   "id": "civic-emperor",
   "metadata": {},
   "outputs": [
    {
     "name": "stdout",
     "output_type": "stream",
     "text": [
      "44\n"
     ]
    }
   ],
   "source": [
    "text_in_progress = get_text_list(Path('./narthang_text.txt'))"
   ]
  },
  {
   "cell_type": "code",
   "execution_count": 4,
   "id": "continental-magazine",
   "metadata": {},
   "outputs": [
    {
     "name": "stdout",
     "output_type": "stream",
     "text": [
      "536\n"
     ]
    }
   ],
   "source": [
    "nalanda_text = get_text_list(Path('./nalanda_text.txt'))"
   ]
  },
  {
   "cell_type": "code",
   "execution_count": 5,
   "id": "robust-methodology",
   "metadata": {},
   "outputs": [],
   "source": [
    "batch_4_text = []\n",
    "for text_id in nalanda_text:\n",
    "    if text_id in text_in_progress:\n",
    "        continue\n",
    "    else:\n",
    "        batch_4_text.append(text_id)"
   ]
  },
  {
   "cell_type": "code",
   "execution_count": 6,
   "id": "wooden-wichita",
   "metadata": {},
   "outputs": [
    {
     "data": {
      "text/plain": [
       "510"
      ]
     },
     "execution_count": 6,
     "metadata": {},
     "output_type": "execute_result"
    }
   ],
   "source": [
    "Path('./nalanda_text_need_to_prepare.txt').write_text(\"\\n\".join(batch_4_text), encoding='utf-8')"
   ]
  },
  {
   "cell_type": "code",
   "execution_count": 22,
   "id": "floral-burton",
   "metadata": {},
   "outputs": [],
   "source": [
    "buffer_text_paths = list(Path('./buffer_hfml_batch_3/derge_google').iterdir())"
   ]
  },
  {
   "cell_type": "code",
   "execution_count": 23,
   "id": "grand-manufacturer",
   "metadata": {},
   "outputs": [],
   "source": [
    "buffer_text_paths.sort()"
   ]
  },
  {
   "cell_type": "code",
   "execution_count": 24,
   "id": "helpful-oklahoma",
   "metadata": {},
   "outputs": [],
   "source": [
    "batch_3_ready= []\n",
    "for text_path in buffer_text_paths:\n",
    "    text_id = text_path.stem[:-5]\n",
    "    batch_3_ready.append(text_id)"
   ]
  },
  {
   "cell_type": "code",
   "execution_count": 25,
   "id": "comparable-deputy",
   "metadata": {},
   "outputs": [],
   "source": [
    "batch_3_not_ready = []\n",
    "for text_ in batch_3_text:\n",
    "    if text_ not in batch_3_ready:\n",
    "        batch_3_not_ready.append(text_)"
   ]
  },
  {
   "cell_type": "code",
   "execution_count": 4,
   "id": "sound-dating",
   "metadata": {},
   "outputs": [],
   "source": [
    "def from_yaml(yml_path):\n",
    "    return yaml.safe_load(yml_path.read_text(encoding=\"utf-8\"))"
   ]
  },
  {
   "cell_type": "code",
   "execution_count": 5,
   "id": "northern-lunch",
   "metadata": {},
   "outputs": [],
   "source": [
    "pedurma_index = from_yaml(Path('./pedurma_index.yml'))"
   ]
  },
  {
   "cell_type": "code",
   "execution_count": 6,
   "id": "promising-montgomery",
   "metadata": {},
   "outputs": [],
   "source": [
    "for text_uuid, text in pedurma_index['annotations'].items():\n",
    "    if text['work_id'] in text_in_progress:\n",
    "        print(text['work_id'])"
   ]
  },
  {
   "cell_type": "code",
   "execution_count": null,
   "id": "educated-workplace",
   "metadata": {},
   "outputs": [],
   "source": []
  }
 ],
 "metadata": {
  "kernelspec": {
   "display_name": "Python 3",
   "language": "python",
   "name": "python3"
  },
  "language_info": {
   "codemirror_mode": {
    "name": "ipython",
    "version": 3
   },
   "file_extension": ".py",
   "mimetype": "text/x-python",
   "name": "python",
   "nbconvert_exporter": "python",
   "pygments_lexer": "ipython3",
   "version": "3.8.10"
  }
 },
 "nbformat": 4,
 "nbformat_minor": 5
}
