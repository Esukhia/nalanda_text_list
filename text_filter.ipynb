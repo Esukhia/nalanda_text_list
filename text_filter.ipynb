{
 "cells": [
  {
   "cell_type": "code",
   "execution_count": 1,
   "id": "appreciated-encoding",
   "metadata": {},
   "outputs": [],
   "source": [
    "from pathlib import Path\n",
    "import csv\n",
    "import json\n",
    "import yaml"
   ]
  },
  {
   "cell_type": "code",
   "execution_count": 2,
   "id": "continued-oregon",
   "metadata": {},
   "outputs": [],
   "source": [
    "def get_text_list(list_path):\n",
    "    text_list = list_path.read_text(encoding='utf-8').splitlines()\n",
    "    text_list = list(set(text_list))\n",
    "    text_list.sort()\n",
    "    print(len(text_list))\n",
    "    return text_list"
   ]
  },
  {
   "cell_type": "code",
   "execution_count": 3,
   "id": "civic-emperor",
   "metadata": {},
   "outputs": [
    {
     "name": "stdout",
     "output_type": "stream",
     "text": [
      "103\n"
     ]
    }
   ],
   "source": [
    "batch2_list = get_text_list(Path('./Status tracking/Chenyik proofread/Batch_2_list.txt'))"
   ]
  },
  {
   "cell_type": "code",
   "execution_count": 4,
   "id": "robust-methodology",
   "metadata": {},
   "outputs": [],
   "source": [
    "buffer_text_paths = list(Path('./buffer_hfml/derge_google').iterdir())"
   ]
  },
  {
   "cell_type": "code",
   "execution_count": 5,
   "id": "grand-manufacturer",
   "metadata": {},
   "outputs": [],
   "source": [
    "buffer_text_paths.sort()"
   ]
  },
  {
   "cell_type": "code",
   "execution_count": 6,
   "id": "helpful-oklahoma",
   "metadata": {},
   "outputs": [
    {
     "name": "stdout",
     "output_type": "stream",
     "text": [
      "D2204\n",
      "D2205\n",
      "D2206\n",
      "D2207\n",
      "D2213\n",
      "D2853\n",
      "D3488\n",
      "D3690\n"
     ]
    }
   ],
   "source": [
    "for text_path in buffer_text_paths:\n",
    "    text_id = text_path.stem[:-5]\n",
    "    if text_id not in batch2_list:\n",
    "        print(text_id)"
   ]
  },
  {
   "cell_type": "code",
   "execution_count": null,
   "id": "comparable-deputy",
   "metadata": {},
   "outputs": [],
   "source": []
  }
 ],
 "metadata": {
  "kernelspec": {
   "display_name": "Python 3",
   "language": "python",
   "name": "python3"
  },
  "language_info": {
   "codemirror_mode": {
    "name": "ipython",
    "version": 3
   },
   "file_extension": ".py",
   "mimetype": "text/x-python",
   "name": "python",
   "nbconvert_exporter": "python",
   "pygments_lexer": "ipython3",
   "version": "3.8.10"
  }
 },
 "nbformat": 4,
 "nbformat_minor": 5
}
