{
 "cells": [
  {
   "cell_type": "code",
   "execution_count": 1,
   "id": "appreciated-encoding",
   "metadata": {},
   "outputs": [],
   "source": [
    "from pathlib import Path\n",
    "import csv\n",
    "import json\n",
    "import yaml"
   ]
  },
  {
   "cell_type": "code",
   "execution_count": 2,
   "id": "continued-oregon",
   "metadata": {},
   "outputs": [],
   "source": [
    "def get_text_list(list_path):\n",
    "    text_list = list_path.read_text(encoding='utf-8').splitlines()\n",
    "    text_list = list(set(text_list))\n",
    "    text_list.sort()\n",
    "    print(len(text_list))\n",
    "    return text_list"
   ]
  },
  {
   "cell_type": "code",
   "execution_count": 3,
   "id": "selected-ethiopia",
   "metadata": {},
   "outputs": [],
   "source": [
    "text_list = Path('./t_text_list.json').read_text(encoding='utf-8')\n",
    "text_on_editor = json.loads(text_list)"
   ]
  },
  {
   "cell_type": "code",
   "execution_count": 7,
   "id": "solved-rehabilitation",
   "metadata": {},
   "outputs": [],
   "source": [
    "editable_text = list(text_on_editor.keys())"
   ]
  },
  {
   "cell_type": "code",
   "execution_count": 8,
   "id": "agricultural-butter",
   "metadata": {},
   "outputs": [
    {
     "data": {
      "text/plain": [
       "420"
      ]
     },
     "execution_count": 8,
     "metadata": {},
     "output_type": "execute_result"
    }
   ],
   "source": [
    "len(editable_text)"
   ]
  },
  {
   "cell_type": "code",
   "execution_count": 4,
   "id": "deadly-boutique",
   "metadata": {},
   "outputs": [
    {
     "name": "stdout",
     "output_type": "stream",
     "text": [
      "506\n"
     ]
    }
   ],
   "source": [
    "nalanda_text = get_text_list(Path('./nalanda_text.txt'))"
   ]
  },
  {
   "cell_type": "code",
   "execution_count": 20,
   "id": "vocational-lounge",
   "metadata": {},
   "outputs": [
    {
     "name": "stdout",
     "output_type": "stream",
     "text": [
      "430\n"
     ]
    }
   ],
   "source": [
    "text_ready_to_work = get_text_list(Path('./nalanda_text_found_in_pedurma.txt'))"
   ]
  },
  {
   "cell_type": "code",
   "execution_count": 8,
   "id": "reasonable-seeking",
   "metadata": {},
   "outputs": [
    {
     "name": "stdout",
     "output_type": "stream",
     "text": [
      "114\n"
     ]
    }
   ],
   "source": [
    "karchak_text = get_text_list(Path('./nalanda_text_ready.txt'))"
   ]
  },
  {
   "cell_type": "code",
   "execution_count": 21,
   "id": "distinguished-soundtrack",
   "metadata": {},
   "outputs": [],
   "source": [
    "text_need_to_prepare = []"
   ]
  },
  {
   "cell_type": "code",
   "execution_count": 22,
   "id": "handed-practice",
   "metadata": {},
   "outputs": [],
   "source": [
    "for text_id in nalanda_text:\n",
    "    if text_id not in text_ready_to_work:\n",
    "        text_need_to_prepare.append(text_id)"
   ]
  },
  {
   "cell_type": "code",
   "execution_count": 23,
   "id": "chief-warrior",
   "metadata": {},
   "outputs": [
    {
     "data": {
      "text/plain": [
       "76"
      ]
     },
     "execution_count": 23,
     "metadata": {},
     "output_type": "execute_result"
    }
   ],
   "source": [
    "len(text_need_to_prepare)"
   ]
  },
  {
   "cell_type": "code",
   "execution_count": 25,
   "id": "rocky-wisconsin",
   "metadata": {},
   "outputs": [
    {
     "data": {
      "text/plain": [
       "2596"
      ]
     },
     "execution_count": 25,
     "metadata": {},
     "output_type": "execute_result"
    }
   ],
   "source": [
    "Path('./nalanda_text_found_in_pedurma.txt').write_text(\"\\n\".join(text_ready_to_work), encoding='utf-8')"
   ]
  },
  {
   "cell_type": "code",
   "execution_count": 14,
   "id": "hidden-jason",
   "metadata": {},
   "outputs": [
    {
     "name": "stdout",
     "output_type": "stream",
     "text": [
      "425\n"
     ]
    }
   ],
   "source": [
    "text_found_in_pedurma = get_text_list(Path('./nalanda_text_found_in_pedurma.txt'))"
   ]
  },
  {
   "cell_type": "code",
   "execution_count": 15,
   "id": "major-things",
   "metadata": {},
   "outputs": [
    {
     "name": "stdout",
     "output_type": "stream",
     "text": [
      "75\n"
     ]
    }
   ],
   "source": [
    "text_not_found_in_pedurma = get_text_list(Path('./nalanda_text_not_found_in_pedurma.txt'))"
   ]
  },
  {
   "cell_type": "code",
   "execution_count": 16,
   "id": "super-street",
   "metadata": {},
   "outputs": [],
   "source": [
    "nalanda_text_on_editor = []\n",
    "for text_on_editor in text_ready_to_work:\n",
    "    if text_on_editor in nalanda_text:\n",
    "        nalanda_text_on_editor.append(text_on_editor)  "
   ]
  },
  {
   "cell_type": "code",
   "execution_count": 17,
   "id": "exempt-sensitivity",
   "metadata": {},
   "outputs": [
    {
     "data": {
      "text/plain": [
       "177"
      ]
     },
     "execution_count": 17,
     "metadata": {},
     "output_type": "execute_result"
    }
   ],
   "source": [
    "len(nalanda_text_on_editor)"
   ]
  },
  {
   "cell_type": "code",
   "execution_count": 8,
   "id": "smoking-election",
   "metadata": {},
   "outputs": [],
   "source": [
    "for nalanda_text in nalanda_text_on_editor:\n",
    "    if nalanda_text in text_not_found_in_pedurma:\n",
    "        print(nalanda_text)"
   ]
  },
  {
   "cell_type": "code",
   "execution_count": 10,
   "id": "controlling-jacket",
   "metadata": {},
   "outputs": [
    {
     "ename": "TypeError",
     "evalue": "unsupported operand type(s) for -: 'list' and 'list'",
     "output_type": "error",
     "traceback": [
      "\u001b[0;31m---------------------------------------------------------------------------\u001b[0m",
      "\u001b[0;31mTypeError\u001b[0m                                 Traceback (most recent call last)",
      "\u001b[0;32m<ipython-input-10-ab3dcee36747>\u001b[0m in \u001b[0;36m<module>\u001b[0;34m\u001b[0m\n\u001b[0;32m----> 1\u001b[0;31m \u001b[0mnalanda_text\u001b[0m\u001b[0;34m-\u001b[0m\u001b[0meditable_text\u001b[0m\u001b[0;34m\u001b[0m\u001b[0;34m\u001b[0m\u001b[0m\n\u001b[0m",
      "\u001b[0;31mTypeError\u001b[0m: unsupported operand type(s) for -: 'list' and 'list'"
     ]
    }
   ],
   "source": [
    "nalanda_text-editable_text"
   ]
  },
  {
   "cell_type": "code",
   "execution_count": 11,
   "id": "varying-jumping",
   "metadata": {},
   "outputs": [
    {
     "data": {
      "text/plain": [
       "615"
      ]
     },
     "execution_count": 11,
     "metadata": {},
     "output_type": "execute_result"
    }
   ],
   "source": [
    "text_need_to_prepare = []\n",
    "for text in nalanda_text:\n",
    "    if text not in editable_text:\n",
    "        text_need_to_prepare.append(text)\n",
    "Path('./nalanda_text_need_to_prepare.txt').write_text(\"\\n\".join(text_need_to_prepare), encoding='utf-8')"
   ]
  },
  {
   "cell_type": "code",
   "execution_count": 1,
   "id": "spoken-berkeley",
   "metadata": {},
   "outputs": [],
   "source": [
    "import re"
   ]
  },
  {
   "cell_type": "code",
   "execution_count": 31,
   "id": "homeless-collectible",
   "metadata": {},
   "outputs": [],
   "source": [
    "text = \"\"\"\n",
    " བཀྲ་ཤིས་ཀྱི་ཚིགས་སུ་བཅད་པ། ་བ་༡༧༩༥ ཟའི་དབང་པོས་མཆོད་གྱུར་པ། །དེ་བཞིན་གཤེགས་པའི་སྟོབས་བཅུ་ལྡན་པའི་བཀྲ་ཤིས་གང་། །བཀྲ་ཤིས་དེས་ནི་སྐྱེ་དགུ་རྣམས་ལ་ཞི་བྱེད་ཤོགདཀོན་མཆོག་གསུམ་དང་མཛད་པ་བཅུ་གཉིས་ཀྱི་བཀྲ་ཤིས་ཀྱི་ཚིགས་སུ་བཅད་པ་སློབ་དཔོན་འཕགས་པ་ཀླུ་སྒྲུབ་ཀྱིས་མཛད་པ་རྫོགས་སོ། ། ། ། རྒྱ་གར་གྱི་མཁན་པོ་ཛི་ན་མི་ཏྲ་དང་། ཞུ་ཆེན་གྱི་ལོ་ཙཱ་བ་བནྡེ་ཡེ་ཤེས་སྡེས་བསྒྱུར་”ཅིང་ཞུས་ཏེ་གཏན་ལ་ཕབ་པ། ། ། །\n",
    "བསྡུར་མཆན།\n",
    "<r༡༧༩༢>\n",
    "1མཚན་བྱང་འདི་ཆོས་ཚན་འདིའི་མཚན་བོད་སྐད་དུ་སྨོས་པ་ལྟར་བཀོད།\n",
    "2«པེ་»«སྣར་»མཾ་གཱ།\n",
    "3«སྣར་»བཀྲི།\n",
    "4«སྣར་»ཉེར་བར་སྟན།\n",
    "5«པེ་»«སྣར་»གྱི།\n",
    "6«པེ་»«སྣར་»ཀྱིས།\n",
    "\"\"\""
   ]
  },
  {
   "cell_type": "code",
   "execution_count": 3,
   "id": "passive-gallery",
   "metadata": {},
   "outputs": [],
   "source": [
    "derge_text_list = list(Path('./hfml/derge_google_pedurma').iterdir())\n",
    "namsel_text_list = list(Path('./hfml/namsel_pedurma').iterdir())"
   ]
  },
  {
   "cell_type": "code",
   "execution_count": 4,
   "id": "embedded-usage",
   "metadata": {},
   "outputs": [],
   "source": [
    "derge_ids = []\n",
    "for derge_text_path in derge_text_list:\n",
    "    derge_ids.append(derge_text_path.stem)\n",
    "namsel_ids = []\n",
    "for namsel_text_path in namsel_text_list:\n",
    "    namsel_ids.append(namsel_text_path.stem)\n",
    "\n",
    "    "
   ]
  },
  {
   "cell_type": "code",
   "execution_count": 5,
   "id": "norwegian-database",
   "metadata": {},
   "outputs": [],
   "source": [
    "buffer_text_ids = []\n",
    "for namsel_id in namsel_ids:\n",
    "    if namsel_id in derge_ids:\n",
    "        buffer_text_ids.append(namsel_id)"
   ]
  },
  {
   "cell_type": "code",
   "execution_count": 7,
   "id": "freelance-proposition",
   "metadata": {},
   "outputs": [
    {
     "data": {
      "text/plain": [
       "96"
      ]
     },
     "execution_count": 7,
     "metadata": {},
     "output_type": "execute_result"
    }
   ],
   "source": [
    "len(buffer_text_ids)"
   ]
  },
  {
   "cell_type": "code",
   "execution_count": 14,
   "id": "beginning-platform",
   "metadata": {},
   "outputs": [],
   "source": [
    "for derge_text_path in derge_text_list:\n",
    "    if derge_text_path.stem in buffer_text_ids:\n",
    "        derge_text_path.rename(f'./buffer_hfml/derge_google/{derge_text_path.stem}.txt')"
   ]
  },
  {
   "cell_type": "code",
   "execution_count": 13,
   "id": "brief-doctrine",
   "metadata": {},
   "outputs": [
    {
     "ename": "FileNotFoundError",
     "evalue": "[Errno 2] No such file or directory: 'hfml/namsel_pedurma/D3069_v038.txt' -> './buffer_hfml/namsel/D3069_v038.txt'",
     "output_type": "error",
     "traceback": [
      "\u001b[0;31m---------------------------------------------------------------------------\u001b[0m",
      "\u001b[0;31mFileNotFoundError\u001b[0m                         Traceback (most recent call last)",
      "\u001b[0;32m<ipython-input-13-325bfaf9c45d>\u001b[0m in \u001b[0;36m<module>\u001b[0;34m\u001b[0m\n\u001b[1;32m      1\u001b[0m \u001b[0;32mfor\u001b[0m \u001b[0mnamsel_text_path\u001b[0m \u001b[0;32min\u001b[0m \u001b[0mnamsel_text_list\u001b[0m\u001b[0;34m:\u001b[0m\u001b[0;34m\u001b[0m\u001b[0;34m\u001b[0m\u001b[0m\n\u001b[1;32m      2\u001b[0m     \u001b[0;32mif\u001b[0m \u001b[0mnamsel_text_path\u001b[0m\u001b[0;34m.\u001b[0m\u001b[0mstem\u001b[0m \u001b[0;32min\u001b[0m \u001b[0mbuffer_text_ids\u001b[0m\u001b[0;34m:\u001b[0m\u001b[0;34m\u001b[0m\u001b[0;34m\u001b[0m\u001b[0m\n\u001b[0;32m----> 3\u001b[0;31m         \u001b[0mnamsel_text_path\u001b[0m\u001b[0;34m.\u001b[0m\u001b[0mrename\u001b[0m\u001b[0;34m(\u001b[0m\u001b[0;34mf'./buffer_hfml/namsel/{namsel_text_path.stem}.txt'\u001b[0m\u001b[0;34m)\u001b[0m\u001b[0;34m\u001b[0m\u001b[0;34m\u001b[0m\u001b[0m\n\u001b[0m",
      "\u001b[0;32m/usr/lib/python3.8/pathlib.py\u001b[0m in \u001b[0;36mrename\u001b[0;34m(self, target)\u001b[0m\n\u001b[1;32m   1357\u001b[0m         \u001b[0;32mif\u001b[0m \u001b[0mself\u001b[0m\u001b[0;34m.\u001b[0m\u001b[0m_closed\u001b[0m\u001b[0;34m:\u001b[0m\u001b[0;34m\u001b[0m\u001b[0;34m\u001b[0m\u001b[0m\n\u001b[1;32m   1358\u001b[0m             \u001b[0mself\u001b[0m\u001b[0;34m.\u001b[0m\u001b[0m_raise_closed\u001b[0m\u001b[0;34m(\u001b[0m\u001b[0;34m)\u001b[0m\u001b[0;34m\u001b[0m\u001b[0;34m\u001b[0m\u001b[0m\n\u001b[0;32m-> 1359\u001b[0;31m         \u001b[0mself\u001b[0m\u001b[0;34m.\u001b[0m\u001b[0m_accessor\u001b[0m\u001b[0;34m.\u001b[0m\u001b[0mrename\u001b[0m\u001b[0;34m(\u001b[0m\u001b[0mself\u001b[0m\u001b[0;34m,\u001b[0m \u001b[0mtarget\u001b[0m\u001b[0;34m)\u001b[0m\u001b[0;34m\u001b[0m\u001b[0;34m\u001b[0m\u001b[0m\n\u001b[0m\u001b[1;32m   1360\u001b[0m         \u001b[0;32mreturn\u001b[0m \u001b[0mself\u001b[0m\u001b[0;34m.\u001b[0m\u001b[0m__class__\u001b[0m\u001b[0;34m(\u001b[0m\u001b[0mtarget\u001b[0m\u001b[0;34m)\u001b[0m\u001b[0;34m\u001b[0m\u001b[0;34m\u001b[0m\u001b[0m\n\u001b[1;32m   1361\u001b[0m \u001b[0;34m\u001b[0m\u001b[0m\n",
      "\u001b[0;31mFileNotFoundError\u001b[0m: [Errno 2] No such file or directory: 'hfml/namsel_pedurma/D3069_v038.txt' -> './buffer_hfml/namsel/D3069_v038.txt'"
     ]
    }
   ],
   "source": [
    "for namsel_text_path in namsel_text_list:\n",
    "    if namsel_text_path.stem in buffer_text_ids:\n",
    "        namsel_text_path.rename(f'./buffer_hfml/namsel/{namsel_text_path.stem}.txt')"
   ]
  },
  {
   "cell_type": "code",
   "execution_count": 11,
   "id": "manufactured-minutes",
   "metadata": {},
   "outputs": [
    {
     "data": {
      "text/plain": [
       "96"
      ]
     },
     "execution_count": 11,
     "metadata": {},
     "output_type": "execute_result"
    }
   ],
   "source": [
    "len(buffer_text_ids)"
   ]
  },
  {
   "cell_type": "code",
   "execution_count": 20,
   "id": "nasty-highway",
   "metadata": {},
   "outputs": [],
   "source": [
    "import os"
   ]
  },
  {
   "cell_type": "code",
   "execution_count": 12,
   "id": "thick-scholarship",
   "metadata": {},
   "outputs": [
    {
     "name": "stdout",
     "output_type": "stream",
     "text": [
      "96\n"
     ]
    }
   ],
   "source": [
    "derge_text = get_text_list(Path('./derge_text.txt'))"
   ]
  },
  {
   "cell_type": "code",
   "execution_count": 13,
   "id": "advance-tuning",
   "metadata": {},
   "outputs": [],
   "source": [
    "text_paths = list(Path('./buffer_hfml/derge_google').iterdir())"
   ]
  },
  {
   "cell_type": "code",
   "execution_count": 22,
   "id": "earned-console",
   "metadata": {},
   "outputs": [],
   "source": [
    "text_paths.sort()"
   ]
  },
  {
   "cell_type": "code",
   "execution_count": 25,
   "id": "curious-rugby",
   "metadata": {},
   "outputs": [
    {
     "name": "stdout",
     "output_type": "stream",
     "text": [
      "D1557_v012\n",
      "D1587_v012\n",
      "D1592_v012\n",
      "D1593_v012\n",
      "D1594_v012\n",
      "D2701_v037\n",
      "D2702_v037\n",
      "D2712_v037\n",
      "D2732_v037\n",
      "D2736a_v037\n",
      "D2853_v037\n",
      "D2889_v037\n",
      "D3883_v062\n",
      "D4017_v069\n",
      "D4037_v073\n",
      "D4040_v075\n",
      "D4041_v075\n"
     ]
    }
   ],
   "source": [
    "text_ids = []\n",
    "for text_path in text_paths:\n",
    "    if text_path.stem[:-5] not in derge_text:\n",
    "        print(text_path.stem)\n",
    "        text_ids.append(text_path.stem)"
   ]
  },
  {
   "cell_type": "code",
   "execution_count": 26,
   "id": "convertible-lyric",
   "metadata": {},
   "outputs": [
    {
     "data": {
      "text/plain": [
       "['D1557_v012',\n",
       " 'D1587_v012',\n",
       " 'D1592_v012',\n",
       " 'D1593_v012',\n",
       " 'D1594_v012',\n",
       " 'D2701_v037',\n",
       " 'D2702_v037',\n",
       " 'D2712_v037',\n",
       " 'D2732_v037',\n",
       " 'D2736a_v037',\n",
       " 'D2853_v037',\n",
       " 'D2889_v037',\n",
       " 'D3883_v062',\n",
       " 'D4017_v069',\n",
       " 'D4037_v073',\n",
       " 'D4040_v075',\n",
       " 'D4041_v075']"
      ]
     },
     "execution_count": 26,
     "metadata": {},
     "output_type": "execute_result"
    }
   ],
   "source": [
    "text_ids"
   ]
  },
  {
   "cell_type": "code",
   "execution_count": null,
   "id": "enabling-factor",
   "metadata": {},
   "outputs": [],
   "source": []
  }
 ],
 "metadata": {
  "kernelspec": {
   "display_name": "Python 3",
   "language": "python",
   "name": "python3"
  },
  "language_info": {
   "codemirror_mode": {
    "name": "ipython",
    "version": 3
   },
   "file_extension": ".py",
   "mimetype": "text/x-python",
   "name": "python",
   "nbconvert_exporter": "python",
   "pygments_lexer": "ipython3",
   "version": "3.8.10"
  }
 },
 "nbformat": 4,
 "nbformat_minor": 5
}
