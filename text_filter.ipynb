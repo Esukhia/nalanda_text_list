{
 "cells": [
  {
   "cell_type": "code",
   "execution_count": 1,
   "id": "appreciated-encoding",
   "metadata": {},
   "outputs": [],
   "source": [
    "from pathlib import Path\n",
    "import csv\n",
    "import json\n",
    "import yaml"
   ]
  },
  {
   "cell_type": "code",
   "execution_count": 2,
   "id": "continued-oregon",
   "metadata": {},
   "outputs": [],
   "source": [
    "def get_text_list(list_path):\n",
    "    text_list = list_path.read_text(encoding='utf-8').splitlines()\n",
    "    text_list = list(set(text_list))\n",
    "    text_list.sort()\n",
    "    print(len(text_list))\n",
    "    return text_list"
   ]
  },
  {
   "cell_type": "code",
   "execution_count": 3,
   "id": "civic-emperor",
   "metadata": {},
   "outputs": [
    {
     "name": "stdout",
     "output_type": "stream",
     "text": [
      "528\n"
     ]
    }
   ],
   "source": [
    "text_in_completed = get_text_list(Path('./nalanda_text_ready.txt'))"
   ]
  },
  {
   "cell_type": "code",
   "execution_count": 4,
   "id": "continental-magazine",
   "metadata": {},
   "outputs": [
    {
     "name": "stdout",
     "output_type": "stream",
     "text": [
      "25\n"
     ]
    }
   ],
   "source": [
    "nalanda_text = get_text_list(Path('./nalanda_text_need_to_prepare.txt'))"
   ]
  },
  {
   "cell_type": "code",
   "execution_count": 7,
   "id": "robust-methodology",
   "metadata": {},
   "outputs": [
    {
     "name": "stdout",
     "output_type": "stream",
     "text": [
      "D1771\n",
      "D1798\n",
      "D2653\n",
      "D2659\n",
      "D4059\n"
     ]
    }
   ],
   "source": [
    "batch_5_text = []\n",
    "for text_id in nalanda_text:\n",
    "    if text_id in text_in_completed or f\"{text_id}x\" in text_in_completed:\n",
    "        print(text_id)\n",
    "    else:\n",
    "        batch_5_text.append(text_id)"
   ]
  },
  {
   "cell_type": "code",
   "execution_count": 6,
   "id": "impressed-identity",
   "metadata": {},
   "outputs": [
    {
     "data": {
      "text/plain": [
       "['D1760',\n",
       " 'D1773',\n",
       " 'D1829',\n",
       " 'D2694',\n",
       " 'D2905',\n",
       " 'D3061',\n",
       " 'D3363',\n",
       " 'D3364',\n",
       " 'D3365',\n",
       " 'D3366',\n",
       " 'D3367',\n",
       " 'D3688',\n",
       " 'D3960',\n",
       " 'D4122',\n",
       " 'D4461',\n",
       " 'N3451',\n",
       " 'N3452',\n",
       " 'N3650',\n",
       " 'N3655',\n",
       " 'Q5808']"
      ]
     },
     "execution_count": 6,
     "metadata": {},
     "output_type": "execute_result"
    }
   ],
   "source": [
    "batch_5_text"
   ]
  },
  {
   "cell_type": "code",
   "execution_count": 11,
   "id": "wooden-wichita",
   "metadata": {},
   "outputs": [
    {
     "data": {
      "text/plain": [
       "367"
      ]
     },
     "execution_count": 11,
     "metadata": {},
     "output_type": "execute_result"
    }
   ],
   "source": [
    "Path('./batch6.txt').write_text(\"\\n\".join(batch_5_text), encoding='utf-8')"
   ]
  },
  {
   "cell_type": "code",
   "execution_count": 22,
   "id": "floral-burton",
   "metadata": {},
   "outputs": [],
   "source": [
    "buffer_text_paths = list(Path('./buffer_hfml_batch_3/derge_google').iterdir())"
   ]
  },
  {
   "cell_type": "code",
   "execution_count": 23,
   "id": "grand-manufacturer",
   "metadata": {},
   "outputs": [],
   "source": [
    "buffer_text_paths.sort()"
   ]
  },
  {
   "cell_type": "code",
   "execution_count": 24,
   "id": "helpful-oklahoma",
   "metadata": {},
   "outputs": [],
   "source": [
    "batch_3_ready= []\n",
    "for text_path in buffer_text_paths:\n",
    "    text_id = text_path.stem[:-5]\n",
    "    batch_3_ready.append(text_id)"
   ]
  },
  {
   "cell_type": "code",
   "execution_count": 25,
   "id": "comparable-deputy",
   "metadata": {},
   "outputs": [],
   "source": [
    "batch_3_not_ready = []\n",
    "for text_ in batch_3_text:\n",
    "    if text_ not in batch_3_ready:\n",
    "        batch_3_not_ready.append(text_)"
   ]
  },
  {
   "cell_type": "code",
   "execution_count": 4,
   "id": "sound-dating",
   "metadata": {},
   "outputs": [],
   "source": [
    "def from_yaml(yml_path):\n",
    "    return yaml.safe_load(yml_path.read_text(encoding=\"utf-8\"))"
   ]
  },
  {
   "cell_type": "code",
   "execution_count": 5,
   "id": "northern-lunch",
   "metadata": {},
   "outputs": [],
   "source": [
    "pedurma_index = from_yaml(Path('./pedurma_index.yml'))"
   ]
  },
  {
   "cell_type": "code",
   "execution_count": 6,
   "id": "promising-montgomery",
   "metadata": {},
   "outputs": [],
   "source": [
    "for text_uuid, text in pedurma_index['annotations'].items():\n",
    "    if text['work_id'] in text_in_progress:\n",
    "        print(text['work_id'])"
   ]
  },
  {
   "cell_type": "code",
   "execution_count": 3,
   "id": "elementary-induction",
   "metadata": {},
   "outputs": [],
   "source": [
    "def to_yaml(dict_):\n",
    "    return yaml.safe_dump(dict_, sort_keys=False, allow_unicode=True,)"
   ]
  },
  {
   "cell_type": "code",
   "execution_count": 13,
   "id": "educated-workplace",
   "metadata": {},
   "outputs": [],
   "source": [
    "def get_nalanda_text(esu_karchak):\n",
    "    text_title_id_mapping = {}\n",
    "    nalanda_text_list = esu_karchak.splitlines()[1:]\n",
    "    for text_walker, nalanda_text in enumerate(nalanda_text_list):\n",
    "        nalanda_text_info = nalanda_text.split(\",\")\n",
    "        text_title = nalanda_text_info[1]\n",
    "        cur_text = {\n",
    "            \"title\": text_title,\n",
    "            \"work_id\": \"\"\n",
    "        }\n",
    "        \n",
    "        if \"D\" in nalanda_text_info[2]:\n",
    "            cur_text[\"work_id\"] = nalanda_text_info[2]\n",
    "        elif \"N\" in nalanda_text_info[12]:\n",
    "            cur_text[\"work_id\"] = nalanda_text_info[12]\n",
    "        elif \"Q\" in nalanda_text_info[7]:\n",
    "            cur_text[\"work_id\"] = nalanda_text_info[7]\n",
    "        elif \"C\" in nalanda_text_info[17]:\n",
    "            cur_text[\"work_id\"] = nalanda_text_info[17]\n",
    "        elif \"GT\" in nalanda_text_info[22]:\n",
    "            cur_text[\"work_id\"] = nalanda_text_info[22]\n",
    "        else:\n",
    "            cur_text[\"work_id\"] = \"\"\n",
    "        text_title_id_mapping[text_walker] = cur_text\n",
    "    return text_title_id_mapping\n",
    "    \n",
    "    "
   ]
  },
  {
   "cell_type": "code",
   "execution_count": 14,
   "id": "familiar-receiver",
   "metadata": {},
   "outputs": [],
   "source": [
    "esu_karchak = Path('./Nalanda_locations.txt').read_text(encoding= \"utf-8\")\n",
    "text_title_id_mapping = get_nalanda_text(esu_karchak)"
   ]
  },
  {
   "cell_type": "code",
   "execution_count": 15,
   "id": "golden-decimal",
   "metadata": {},
   "outputs": [
    {
     "data": {
      "text/plain": [
       "43263"
      ]
     },
     "execution_count": 15,
     "metadata": {},
     "output_type": "execute_result"
    }
   ],
   "source": [
    "Path('./nalanda_text_title_id_mapping.yml').write_text(to_yaml(text_title_id_mapping), encoding=\"utf-8\")"
   ]
  },
  {
   "cell_type": "code",
   "execution_count": null,
   "id": "catholic-journalism",
   "metadata": {},
   "outputs": [],
   "source": []
  }
 ],
 "metadata": {
  "kernelspec": {
   "display_name": "Python 3",
   "language": "python",
   "name": "python3"
  },
  "language_info": {
   "codemirror_mode": {
    "name": "ipython",
    "version": 3
   },
   "file_extension": ".py",
   "mimetype": "text/x-python",
   "name": "python",
   "nbconvert_exporter": "python",
   "pygments_lexer": "ipython3",
   "version": "3.8.10"
  }
 },
 "nbformat": 4,
 "nbformat_minor": 5
}
