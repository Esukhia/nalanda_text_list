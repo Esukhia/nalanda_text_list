{
 "cells": [
  {
   "cell_type": "code",
   "execution_count": 1,
   "id": "appreciated-encoding",
   "metadata": {},
   "outputs": [],
   "source": [
    "from pathlib import Path\n",
    "import csv\n",
    "import json\n",
    "import yaml"
   ]
  },
  {
   "cell_type": "code",
   "execution_count": 2,
   "id": "continued-oregon",
   "metadata": {},
   "outputs": [],
   "source": [
    "def get_text_list(list_path):\n",
    "    text_list = list_path.read_text(encoding='utf-8').splitlines()\n",
    "    text_list = list(set(text_list))\n",
    "    text_list.sort()\n",
    "    print(len(text_list))\n",
    "    return text_list"
   ]
  },
  {
   "cell_type": "code",
   "execution_count": 4,
   "id": "surrounded-century",
   "metadata": {},
   "outputs": [],
   "source": [
    "text_list = Path('./t_text_list.json').read_text(encoding='utf-8')\n",
    "text_on_editor = json.loads(text_list)"
   ]
  },
  {
   "cell_type": "code",
   "execution_count": 7,
   "id": "cross-regression",
   "metadata": {},
   "outputs": [],
   "source": [
    "editable_text = list(text_on_editor.keys())"
   ]
  },
  {
   "cell_type": "code",
   "execution_count": 8,
   "id": "distinguished-classroom",
   "metadata": {},
   "outputs": [
    {
     "data": {
      "text/plain": [
       "420"
      ]
     },
     "execution_count": 8,
     "metadata": {},
     "output_type": "execute_result"
    }
   ],
   "source": [
    "len(editable_text)"
   ]
  },
  {
   "cell_type": "code",
   "execution_count": 9,
   "id": "deadly-boutique",
   "metadata": {},
   "outputs": [
    {
     "name": "stdout",
     "output_type": "stream",
     "text": [
      "500\n"
     ]
    }
   ],
   "source": [
    "nalanda_text = get_text_list(Path('./nalanda_text.txt'))"
   ]
  },
  {
   "cell_type": "code",
   "execution_count": 13,
   "id": "vocational-lounge",
   "metadata": {},
   "outputs": [
    {
     "name": "stdout",
     "output_type": "stream",
     "text": [
      "196\n"
     ]
    }
   ],
   "source": [
    "text_ready_to_work = get_text_list(Path('./text_on_editor.txt'))"
   ]
  },
  {
   "cell_type": "code",
   "execution_count": 14,
   "id": "hidden-jason",
   "metadata": {},
   "outputs": [
    {
     "name": "stdout",
     "output_type": "stream",
     "text": [
      "425\n"
     ]
    }
   ],
   "source": [
    "text_found_in_pedurma = get_text_list(Path('./nalanda_text_found_in_pedurma.txt'))"
   ]
  },
  {
   "cell_type": "code",
   "execution_count": 15,
   "id": "major-things",
   "metadata": {},
   "outputs": [
    {
     "name": "stdout",
     "output_type": "stream",
     "text": [
      "75\n"
     ]
    }
   ],
   "source": [
    "text_not_found_in_pedurma = get_text_list(Path('./nalanda_text_not_found_in_pedurma.txt'))"
   ]
  },
  {
   "cell_type": "code",
   "execution_count": 16,
   "id": "super-street",
   "metadata": {},
   "outputs": [],
   "source": [
    "nalanda_text_on_editor = []\n",
    "for text_on_editor in text_ready_to_work:\n",
    "    if text_on_editor in nalanda_text:\n",
    "        nalanda_text_on_editor.append(text_on_editor)  "
   ]
  },
  {
   "cell_type": "code",
   "execution_count": 17,
   "id": "exempt-sensitivity",
   "metadata": {},
   "outputs": [
    {
     "data": {
      "text/plain": [
       "177"
      ]
     },
     "execution_count": 17,
     "metadata": {},
     "output_type": "execute_result"
    }
   ],
   "source": [
    "len(nalanda_text_on_editor)"
   ]
  },
  {
   "cell_type": "code",
   "execution_count": 8,
   "id": "smoking-election",
   "metadata": {},
   "outputs": [],
   "source": [
    "for nalanda_text in nalanda_text_on_editor:\n",
    "    if nalanda_text in text_not_found_in_pedurma:\n",
    "        print(nalanda_text)"
   ]
  },
  {
   "cell_type": "code",
   "execution_count": 10,
   "id": "controlling-jacket",
   "metadata": {},
   "outputs": [
    {
     "ename": "TypeError",
     "evalue": "unsupported operand type(s) for -: 'list' and 'list'",
     "output_type": "error",
     "traceback": [
      "\u001b[0;31m---------------------------------------------------------------------------\u001b[0m",
      "\u001b[0;31mTypeError\u001b[0m                                 Traceback (most recent call last)",
      "\u001b[0;32m<ipython-input-10-ab3dcee36747>\u001b[0m in \u001b[0;36m<module>\u001b[0;34m\u001b[0m\n\u001b[0;32m----> 1\u001b[0;31m \u001b[0mnalanda_text\u001b[0m\u001b[0;34m-\u001b[0m\u001b[0meditable_text\u001b[0m\u001b[0;34m\u001b[0m\u001b[0;34m\u001b[0m\u001b[0m\n\u001b[0m",
      "\u001b[0;31mTypeError\u001b[0m: unsupported operand type(s) for -: 'list' and 'list'"
     ]
    }
   ],
   "source": [
    "nalanda_text-editable_text"
   ]
  },
  {
   "cell_type": "code",
   "execution_count": 19,
   "id": "varying-jumping",
   "metadata": {},
   "outputs": [
    {
     "data": {
      "text/plain": [
       "1489"
      ]
     },
     "execution_count": 19,
     "metadata": {},
     "output_type": "execute_result"
    }
   ],
   "source": [
    "text_need_to_prepare = []\n",
    "for text_foun in editable_text:\n",
    "    if text_foun in nalanda_text_on_editor:\n",
    "        continue\n",
    "    text_need_to_prepare.append(text_foun)\n",
    "Path('./nalanda_text_need_to_prepare.txt').write_text(\"\\n\".join(text_need_to_prepare), encoding='utf-8')"
   ]
  },
  {
   "cell_type": "code",
   "execution_count": null,
   "id": "spoken-berkeley",
   "metadata": {},
   "outputs": [],
   "source": []
  }
 ],
 "metadata": {
  "kernelspec": {
   "display_name": "Python 3",
   "language": "python",
   "name": "python3"
  },
  "language_info": {
   "codemirror_mode": {
    "name": "ipython",
    "version": 3
   },
   "file_extension": ".py",
   "mimetype": "text/x-python",
   "name": "python",
   "nbconvert_exporter": "python",
   "pygments_lexer": "ipython3",
   "version": "3.8.10"
  }
 },
 "nbformat": 4,
 "nbformat_minor": 5
}
